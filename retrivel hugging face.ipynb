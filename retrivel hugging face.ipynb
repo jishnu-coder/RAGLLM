{
 "cells": [
  {
   "cell_type": "code",
   "execution_count": 1,
   "id": "1d9e5800-ea54-44bc-8328-2399baecad83",
   "metadata": {},
   "outputs": [],
   "source": [
    "!pip install langchain openai tiktoken transformers accelerate cohere --quiet\n"
   ]
  },
  {
   "cell_type": "code",
   "execution_count": null,
   "id": "766f8d25-03d5-4a11-ad2f-bc3086a213ab",
   "metadata": {},
   "outputs": [],
   "source": []
  }
 ],
 "metadata": {
  "kernelspec": {
   "display_name": "Python 3 (ipykernel)",
   "language": "python",
   "name": "python3"
  },
  "language_info": {
   "codemirror_mode": {
    "name": "ipython",
    "version": 3
   },
   "file_extension": ".py",
   "mimetype": "text/x-python",
   "name": "python",
   "nbconvert_exporter": "python",
   "pygments_lexer": "ipython3",
   "version": "3.12.2"
  }
 },
 "nbformat": 4,
 "nbformat_minor": 5
}
