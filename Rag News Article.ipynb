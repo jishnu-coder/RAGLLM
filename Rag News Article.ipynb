{
 "cells": [
  {
   "cell_type": "code",
   "execution_count": null,
   "id": "7b7020f8-3e8c-470c-a5dd-512fe0af64de",
   "metadata": {},
   "outputs": [],
   "source": [
    "import os\n",
    "import pickle\n",
    "import langchain\n",
    "from langchain_community.embeddings import HuggingFaceEmbeddings\n",
    "from langchain import HuggingFaceHub\n",
    "from langchain.chains import RetrievalQA\n",
    "from langchain.text_splitter import RecursiveCharacterTextSplitter\n",
    "from langchain.document_loaders import UnstructuredURLLoader\n",
    "from langchain.vectorstores import FAISS"
   ]
  },
  {
   "cell_type": "code",
   "execution_count": null,
   "id": "5b2803f6-ffa1-48e8-8542-3691c3686abc",
   "metadata": {},
   "outputs": [],
   "source": [
    "#load Hugging Face api key\n",
    "os.environ['HUGGINGFACEHUB_API_TOKEN'] = \"Your Hugging Face API Key\""
   ]
  },
  {
   "cell_type": "code",
   "execution_count": null,
   "id": "b6d1351e-bf7a-40d1-970f-7f14fb1b70c6",
   "metadata": {},
   "outputs": [],
   "source": [
    "llm = HuggingFaceHub(\n",
    "    repo_id=\"mistralai/Mixtral-8x7B-Instruct-v0.1\",\n",
    "    model_kwargs={\"temperature\":0.8, \"max_length\":1000}\n",
    ")"
   ]
  },
  {
   "cell_type": "code",
   "execution_count": null,
   "id": "8a875e6e-076d-4be5-b9ac-cd2e73ab1985",
   "metadata": {},
   "outputs": [],
   "source": [
    "loaders = UnstructuredURLLoader(urls=[\n",
    "    \"https://www.aljazeera.com/news/2024/3/29/what-is-openais-sora-text-to-video-generator\"\n",
    "])\n",
    "data = loaders.load() "
   ]
  },
  {
   "cell_type": "code",
   "execution_count": null,
   "id": "27b7bc6c-6406-45b6-9384-07a5c9eb3e6c",
   "metadata": {},
   "outputs": [],
   "source": [
    "text_splitter = RecursiveCharacterTextSplitter(\n",
    "    chunk_size=1000,\n",
    "    chunk_overlap=200\n",
    ")\n",
    "\n",
    "# As data is of type documents we can directly use split_documents over split_text in order to get the chunks.\n",
    "docs = text_splitter.split_documents(data)"
   ]
  },
  {
   "cell_type": "code",
   "execution_count": null,
   "id": "5816f265-f18a-43b3-9928-cdd1d9826f4c",
   "metadata": {},
   "outputs": [],
   "source": [
    "# Create the embeddings of the chunks using openAIEmbeddings\n",
    "embeddings = HuggingFaceEmbeddings()\n",
    "\n",
    "# Pass the documents and embeddings inorder to create FAISS vector index\n",
    "vectorindex_openai = FAISS.from_documents(docs, embeddings)"
   ]
  },
  {
   "cell_type": "code",
   "execution_count": null,
   "id": "a5230254-0408-4e84-a149-c6086f8175a6",
   "metadata": {},
   "outputs": [],
   "source": [
    "# Storing vector index create in local\n",
    "file_path=\"vector_index.pkl\"\n",
    "with open(file_path, \"wb\") as f:\n",
    "    pickle.dump(vectorindex_openai, f)\n",
    "\n",
    "if os.path.exists(file_path):\n",
    "    with open(file_path, \"rb\") as f:\n",
    "        vectorIndex = pickle.load(f)"
   ]
  },
  {
   "cell_type": "code",
   "execution_count": null,
   "id": "a171b74b-37dd-412c-a34f-85efb1552d3b",
   "metadata": {},
   "outputs": [],
   "source": [
    "chain = RetrievalQA.from_chain_type(llm=llm,\n",
    "                                 retriever=vectorIndex.as_retriever(),\n",
    "                                 return_source_documents=True)"
   ]
  },
  {
   "cell_type": "code",
   "execution_count": null,
   "id": "a059dfd8-9d6f-491e-9da0-0a8317a65498",
   "metadata": {},
   "outputs": [],
   "source": [
    "query = \"Is that possible to create 30 minutes video using SORA?\"\n",
    "\n",
    "langchain.debug=True\n",
    "result = chain({\"query\": query}, return_only_outputs=True)"
   ]
  },
  {
   "cell_type": "code",
   "execution_count": null,
   "id": "6d84553d-ad7e-447d-949e-1652bc902967",
   "metadata": {},
   "outputs": [],
   "source": [
    "text = result['result']\n",
    "answer_start = text.find(\"Answer:\")\n",
    "\n",
    "# Extract the text after \"Answer:\" until a blank line is found\n",
    "answer_text = text[answer_start:text.find(\"\\n\\n\", answer_start)]\n",
    "\n",
    "# Print the extracted text\n",
    "print(answer_text)"
   ]
  },
  {
   "cell_type": "code",
   "execution_count": null,
   "id": "f3c96904-a97b-403a-ba91-8b4ef89596f1",
   "metadata": {},
   "outputs": [],
   "source": []
  }
 ],
 "metadata": {
  "kernelspec": {
   "display_name": "Python 3 (ipykernel)",
   "language": "python",
   "name": "python3"
  },
  "language_info": {
   "codemirror_mode": {
    "name": "ipython",
    "version": 3
   },
   "file_extension": ".py",
   "mimetype": "text/x-python",
   "name": "python",
   "nbconvert_exporter": "python",
   "pygments_lexer": "ipython3",
   "version": "3.12.2"
  }
 },
 "nbformat": 4,
 "nbformat_minor": 5
}
